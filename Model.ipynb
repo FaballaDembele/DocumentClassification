{
 "cells": [
  {
   "cell_type": "code",
   "execution_count": 5,
   "id": "96440ea2",
   "metadata": {},
   "outputs": [],
   "source": [
    "import os\n",
    "import csv\n",
    "import re\n",
    "import pdfplumber\n",
    "import pytesseract\n",
    "from PIL import Image\n",
    "import fitz  # PyMuPDF\n",
    "import spacy\n",
    "from nltk.corpus import stopwords\n",
    "import nltk\n",
    "from langdetect import detect"
   ]
  },
  {
   "cell_type": "code",
   "execution_count": 6,
   "id": "fed2ec22",
   "metadata": {},
   "outputs": [
    {
     "name": "stderr",
     "output_type": "stream",
     "text": [
      "[nltk_data] Downloading package stopwords to\n",
      "[nltk_data]     C:\\Users\\pc\\AppData\\Roaming\\nltk_data...\n",
      "[nltk_data]   Package stopwords is already up-to-date!\n"
     ]
    },
    {
     "data": {
      "text/plain": [
       "True"
      ]
     },
     "execution_count": 6,
     "metadata": {},
     "output_type": "execute_result"
    }
   ],
   "source": [
    "# Télécharger stopwords si première fois\n",
    "nltk.download(\"stopwords\")"
   ]
  },
  {
   "cell_type": "code",
   "execution_count": null,
   "id": "2faa4b31",
   "metadata": {},
   "outputs": [
    {
     "name": "stdout",
     "output_type": "stream",
     "text": [
      "[ERREUR] facture_16_niveaux_16_niveaux_copy1.pdf : tesseract is not installed or it's not in your PATH. See README file for more information.\n",
      "[ERREUR] facture_16_niveaux_16_niveaux_copy2.pdf : tesseract is not installed or it's not in your PATH. See README file for more information.\n",
      "[ERREUR] facture_16_niveaux_2_niveaux_copy1.pdf : tesseract is not installed or it's not in your PATH. See README file for more information.\n",
      "[ERREUR] facture_16_niveaux_2_niveaux_copy2.pdf : tesseract is not installed or it's not in your PATH. See README file for more information.\n",
      "[ERREUR] facture_16_niveaux_4_niveaux_copy1.pdf : tesseract is not installed or it's not in your PATH. See README file for more information.\n",
      "[ERREUR] facture_16_niveaux_4_niveaux_copy2.pdf : tesseract is not installed or it's not in your PATH. See README file for more information.\n",
      "[ERREUR] facture_16_niveaux_8_niveaux_copy1.pdf : tesseract is not installed or it's not in your PATH. See README file for more information.\n",
      "[ERREUR] facture_16_niveaux_8_niveaux_copy2.pdf : tesseract is not installed or it's not in your PATH. See README file for more information.\n",
      "[ERREUR] facture_2_niveaux_16_niveaux_copy1.pdf : tesseract is not installed or it's not in your PATH. See README file for more information.\n",
      "[ERREUR] facture_2_niveaux_16_niveaux_copy2.pdf : tesseract is not installed or it's not in your PATH. See README file for more information.\n",
      "[ERREUR] facture_2_niveaux_2_niveaux_copy1.pdf : tesseract is not installed or it's not in your PATH. See README file for more information.\n",
      "[ERREUR] facture_2_niveaux_2_niveaux_copy2.pdf : tesseract is not installed or it's not in your PATH. See README file for more information.\n",
      "[ERREUR] facture_2_niveaux_4_niveaux_copy1.pdf : tesseract is not installed or it's not in your PATH. See README file for more information.\n",
      "[ERREUR] facture_2_niveaux_4_niveaux_copy2.pdf : tesseract is not installed or it's not in your PATH. See README file for more information.\n"
     ]
    }
   ],
   "source": [
    "# Charger modèles spaCy FR et EN\n",
    "nlp_fr = spacy.load(\"fr_core_news_sm\")\n",
    "nlp_en = spacy.load(\"en_core_web_sm\")\n",
    "\n",
    "# Stopwords FR + EN\n",
    "stop_words = set(stopwords.words(\"french\") + stopwords.words(\"english\"))\n",
    "\n",
    "#  Extraction texte PDF textuel\n",
    "def extract_text_pdf(pdf_path):\n",
    "    text = \"\"\n",
    "    with pdfplumber.open(pdf_path) as pdf:\n",
    "        for page in pdf.pages:\n",
    "            text += page.extract_text() or \"\"\n",
    "    return text\n",
    "\n",
    "# Extraction OCR PDF scanné (FR+EN)\n",
    "def extract_text_ocr(pdf_path):\n",
    "    text = \"\"\n",
    "    doc = fitz.open(pdf_path)\n",
    "    for page_num in range(len(doc)):\n",
    "        page = doc[page_num]\n",
    "        pix = page.get_pixmap(dpi=300)\n",
    "        img = Image.frombytes(\"RGB\", [pix.width, pix.height], pix.samples)\n",
    "        text += pytesseract.image_to_string(img, lang=\"fra+eng\")\n",
    "    return text\n",
    "\n",
    "# Nettoyage + Lemmatisation bilingue\n",
    "def clean_text(text):\n",
    "    text = text.lower()\n",
    "    text = re.sub(r\"[^a-zàâçéèêëîïôûùüÿñæœ\\s]\", \" \", text)\n",
    "    text = re.sub(r\"\\s+\", \" \", text).strip()\n",
    "\n",
    "    try:\n",
    "        lang = detect(text)\n",
    "    except:\n",
    "        lang = \"fr\"  # fallback\n",
    "    if lang == \"fr\":\n",
    "        doc = nlp_fr(text)\n",
    "    else:\n",
    "        doc = nlp_en(text)\n",
    "\n",
    "    tokens = [token.lemma_ for token in doc if token.text not in stop_words and len(token.text) > 2]\n",
    "    return \" \".join(tokens)\n",
    "\n",
    "#  Pipeline complet\n",
    "def preprocess_document(file_path, force_ocr=False):\n",
    "    text = \"\"\n",
    "    if file_path.lower().endswith(\".pdf\") and not force_ocr:\n",
    "        text = extract_text_pdf(file_path)\n",
    "    if not text.strip():\n",
    "        text = extract_text_ocr(file_path)\n",
    "    return clean_text(text)\n",
    "\n",
    "# Génération CSV\n",
    "def build_csv(dataset_dir, output_csv=\"dataset.csv\"):\n",
    "    rows = []\n",
    "    for label in os.listdir(dataset_dir):\n",
    "        class_dir = os.path.join(dataset_dir, label)\n",
    "        if not os.path.isdir(class_dir):\n",
    "            continue\n",
    "        for fichier in os.listdir(class_dir):\n",
    "            if fichier.lower().endswith(\".pdf\"):\n",
    "                chemin = os.path.join(class_dir, fichier)\n",
    "                try:\n",
    "                    texte = preprocess_document(chemin)\n",
    "                    rows.append([texte, label])\n",
    "                    print(f\"[OK] {fichier} → {label}\")\n",
    "                except Exception as e:\n",
    "                    print(f\"[ERREUR] {fichier} : {e}\")\n",
    "\n",
    "    with open(output_csv, \"w\", newline=\"\", encoding=\"utf-8\") as f:\n",
    "        writer = csv.writer(f)\n",
    "        writer.writerow([\"texte\", \"label\"])\n",
    "        writer.writerows(rows)\n",
    "\n",
    "    print(f\"\\n✅ Dataset sauvegardé dans {output_csv} ({len(rows)} documents)\")\n",
    "\n",
    "# Exemple d’utilisation\n",
    "if __name__ == \"__main__\":\n",
    "   build_csv(\"data1\", \"documents_pretraites.csv\")"
   ]
  }
 ],
 "metadata": {
  "kernelspec": {
   "display_name": ".venv",
   "language": "python",
   "name": "python3"
  },
  "language_info": {
   "codemirror_mode": {
    "name": "ipython",
    "version": 3
   },
   "file_extension": ".py",
   "mimetype": "text/x-python",
   "name": "python",
   "nbconvert_exporter": "python",
   "pygments_lexer": "ipython3",
   "version": "3.12.10"
  }
 },
 "nbformat": 4,
 "nbformat_minor": 5
}
